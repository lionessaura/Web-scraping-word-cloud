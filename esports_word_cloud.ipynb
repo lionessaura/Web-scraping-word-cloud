{
 "cells": [
  {
   "cell_type": "code",
   "execution_count": 4,
   "metadata": {
    "colab": {
     "base_uri": "https://localhost:8080/"
    },
    "id": "QpljIWV2Gewi",
    "outputId": "062afc80-b9b4-420a-8df3-be08960cd28e"
   },
   "outputs": [
    {
     "name": "stdout",
     "output_type": "stream",
     "text": [
      "Requirement already satisfied: lxml in /Users/leoaura/opt/anaconda3/lib/python3.9/site-packages (4.6.3)\n"
     ]
    }
   ],
   "source": [
    "!pip3 install lxml"
   ]
  },
  {
   "cell_type": "code",
   "execution_count": 5,
   "metadata": {
    "id": "hh0m_W_bE8Tn"
   },
   "outputs": [],
   "source": [
    "import bs4 as bs\n",
    "import urllib.request"
   ]
  },
  {
   "cell_type": "code",
   "execution_count": 6,
   "metadata": {
    "id": "d_bkm8MFIOyX"
   },
   "outputs": [],
   "source": [
    "sauce = urllib.request.urlopen('https://esportsresearch.net/literature/items').read()"
   ]
  },
  {
   "cell_type": "code",
   "execution_count": 8,
   "metadata": {},
   "outputs": [
    {
     "name": "stdout",
     "output_type": "stream",
     "text": [
      "Requirement already satisfied: requests in /Users/leoaura/opt/anaconda3/lib/python3.9/site-packages (2.26.0)\n",
      "Requirement already satisfied: urllib3<1.27,>=1.21.1 in /Users/leoaura/opt/anaconda3/lib/python3.9/site-packages (from requests) (1.26.7)\n",
      "Requirement already satisfied: certifi>=2017.4.17 in /Users/leoaura/opt/anaconda3/lib/python3.9/site-packages (from requests) (2021.10.8)\n",
      "Requirement already satisfied: charset-normalizer~=2.0.0 in /Users/leoaura/opt/anaconda3/lib/python3.9/site-packages (from requests) (2.0.4)\n",
      "Requirement already satisfied: idna<4,>=2.5 in /Users/leoaura/opt/anaconda3/lib/python3.9/site-packages (from requests) (3.2)\n"
     ]
    }
   ],
   "source": [
    "!pip install requests"
   ]
  },
  {
   "cell_type": "code",
   "execution_count": 11,
   "metadata": {},
   "outputs": [],
   "source": [
    "import requests"
   ]
  },
  {
   "cell_type": "code",
   "execution_count": 12,
   "metadata": {
    "id": "X4d0a3I7IV2M"
   },
   "outputs": [
    {
     "ename": "FileNotFoundError",
     "evalue": "[Errno 2] No such file or directory: 'sample_data/1.html'",
     "output_type": "error",
     "traceback": [
      "\u001b[0;31m---------------------------------------------------------------------------\u001b[0m",
      "\u001b[0;31mFileNotFoundError\u001b[0m                         Traceback (most recent call last)",
      "\u001b[0;32m/var/folders/l1/xg1q609s0kv11l9r_bd1hnnm0000gn/T/ipykernel_1370/3089185491.py\u001b[0m in \u001b[0;36m<module>\u001b[0;34m\u001b[0m\n\u001b[1;32m      4\u001b[0m   \u001b[0murl_new\u001b[0m \u001b[0;34m=\u001b[0m \u001b[0murl\u001b[0m\u001b[0;34m.\u001b[0m\u001b[0mformat\u001b[0m\u001b[0;34m(\u001b[0m\u001b[0mi\u001b[0m\u001b[0;34m)\u001b[0m\u001b[0;34m\u001b[0m\u001b[0;34m\u001b[0m\u001b[0m\n\u001b[1;32m      5\u001b[0m   \u001b[0mdata\u001b[0m \u001b[0;34m=\u001b[0m \u001b[0mrequests\u001b[0m\u001b[0;34m.\u001b[0m\u001b[0mget\u001b[0m\u001b[0;34m(\u001b[0m\u001b[0murl_new\u001b[0m\u001b[0;34m)\u001b[0m\u001b[0;34m\u001b[0m\u001b[0;34m\u001b[0m\u001b[0m\n\u001b[0;32m----> 6\u001b[0;31m   \u001b[0;32mwith\u001b[0m \u001b[0mopen\u001b[0m\u001b[0;34m(\u001b[0m\u001b[0;34m\"sample_data/{}.html\"\u001b[0m\u001b[0;34m.\u001b[0m\u001b[0mformat\u001b[0m\u001b[0;34m(\u001b[0m\u001b[0mi\u001b[0m\u001b[0;34m)\u001b[0m\u001b[0;34m,\u001b[0m \u001b[0;34m\"w+\"\u001b[0m\u001b[0;34m)\u001b[0m \u001b[0;32mas\u001b[0m \u001b[0mf\u001b[0m\u001b[0;34m:\u001b[0m\u001b[0;34m\u001b[0m\u001b[0;34m\u001b[0m\u001b[0m\n\u001b[0m\u001b[1;32m      7\u001b[0m     \u001b[0mf\u001b[0m\u001b[0;34m.\u001b[0m\u001b[0mwrite\u001b[0m\u001b[0;34m(\u001b[0m\u001b[0mdata\u001b[0m\u001b[0;34m.\u001b[0m\u001b[0mtext\u001b[0m\u001b[0;34m)\u001b[0m\u001b[0;34m\u001b[0m\u001b[0;34m\u001b[0m\u001b[0m\n",
      "\u001b[0;31mFileNotFoundError\u001b[0m: [Errno 2] No such file or directory: 'sample_data/1.html'"
     ]
    }
   ],
   "source": [
    "#download html page\n",
    "url = \"https://esportsresearch.net/literature/items?page={}\"\n",
    "for i in range(1,16):\n",
    "  url_new = url.format(i)\n",
    "  data = requests.get(url_new)\n",
    "  with open(\"sample_data/{}.html\".format(i), \"w+\") as f:\n",
    "    f.write(data.text)"
   ]
  },
  {
   "cell_type": "code",
   "execution_count": 10,
   "metadata": {
    "id": "8cfshbTfUBPO"
   },
   "outputs": [
    {
     "ename": "NameError",
     "evalue": "name 'requests' is not defined",
     "output_type": "error",
     "traceback": [
      "\u001b[0;31m---------------------------------------------------------------------------\u001b[0m",
      "\u001b[0;31mNameError\u001b[0m                                 Traceback (most recent call last)",
      "\u001b[0;32m/var/folders/l1/xg1q609s0kv11l9r_bd1hnnm0000gn/T/ipykernel_1370/1291139464.py\u001b[0m in \u001b[0;36m<module>\u001b[0;34m\u001b[0m\n\u001b[0;32m----> 1\u001b[0;31m \u001b[0mr\u001b[0m \u001b[0;34m=\u001b[0m \u001b[0mrequests\u001b[0m\u001b[0;34m.\u001b[0m\u001b[0mget\u001b[0m\u001b[0;34m(\u001b[0m\u001b[0murl\u001b[0m\u001b[0;34m)\u001b[0m\u001b[0;34m\u001b[0m\u001b[0;34m\u001b[0m\u001b[0m\n\u001b[0m\u001b[1;32m      2\u001b[0m \u001b[0msoup\u001b[0m \u001b[0;34m=\u001b[0m \u001b[0mbs\u001b[0m\u001b[0;34m.\u001b[0m\u001b[0mBeautifulSoup\u001b[0m\u001b[0;34m(\u001b[0m\u001b[0mr\u001b[0m\u001b[0;34m.\u001b[0m\u001b[0mtext\u001b[0m\u001b[0;34m,\u001b[0m \u001b[0;34m'html.parser'\u001b[0m\u001b[0;34m)\u001b[0m\u001b[0;34m\u001b[0m\u001b[0;34m\u001b[0m\u001b[0m\n",
      "\u001b[0;31mNameError\u001b[0m: name 'requests' is not defined"
     ]
    }
   ],
   "source": [
    "r = requests.get(url)\n",
    "soup = bs.BeautifulSoup(r.text, 'html.parser')"
   ]
  },
  {
   "cell_type": "code",
   "execution_count": null,
   "metadata": {
    "colab": {
     "base_uri": "https://localhost:8080/"
    },
    "id": "F_NwF2aGSGqA",
    "outputId": "a72e493e-3c7b-493f-a407-a099968fc960"
   },
   "outputs": [],
   "source": [
    "# get titles of all papers\n",
    "for k in range(1, 16):\n",
    "  with open(\"sample_data/1.html\") as f:\n",
    "\n",
    "    page = f.read()\n",
    "    soup = BeautifulSoup(page, 'lxml')\n",
    "  titles = soup.find_all(class_ = 'permalink')\n",
    "  for i in titles:\n",
    "    print(i.text)"
   ]
  },
  {
   "cell_type": "code",
   "execution_count": null,
   "metadata": {
    "colab": {
     "base_uri": "https://localhost:8080/"
    },
    "id": "gkLp1POVIV44",
    "outputId": "56ec8f82-4269-4e4b-9b5f-e2264c33f742"
   },
   "outputs": [],
   "source": [
    "#get tags of all papers\n",
    "tag_list = [ ]\n",
    "for k in range(1, 16):\n",
    "  with open(\"sample_data/1.html\") as f:\n",
    "    page = f.read()\n",
    "    soup = BeautifulSoup(page, 'lxml')\n",
    "  tags = soup.find_all(class_ = 'tags')\n",
    "  for i in tags:\n",
    "    tag_list.append(i.text.replace(\"Tags:\", \"\"))\n",
    "tag_list"
   ]
  },
  {
   "cell_type": "code",
   "execution_count": null,
   "metadata": {
    "id": "bstY3Y3HXyM7"
   },
   "outputs": [],
   "source": []
  },
  {
   "cell_type": "code",
   "execution_count": null,
   "metadata": {
    "colab": {
     "base_uri": "https://localhost:8080/"
    },
    "id": "PECcScr0X7sp",
    "outputId": "d8eeb9b6-dcf4-4fbf-8e3a-a3af7d18200e"
   },
   "outputs": [],
   "source": [
    "# get the data and use beatiful soup \n",
    "#for x in range(1,16):\n",
    "title_array = []\n",
    "tag_array = []\n",
    "dic = {}\n",
    "for html in range(1,16):\n",
    "    with open(\"sample_data/{}.html\".format(html),encoding=\"utf-8\") as f:\n",
    "        page = f.read()\n",
    "        soup = BeautifulSoup(page, 'html.parser')\n",
    "        records = soup.find_all(\"div\", class_=\"item record\")\n",
    "        for record in records:\n",
    "            title = record.a.text\n",
    "            title_array.append(title)\n",
    "            try:\n",
    "                tags = record.find(class_=\"tags\")\n",
    "                tag = tags.text.replace(\"Tags:\", \"\").replace(\"\\n\", \"\")\n",
    "                tag_array.append(tag)\n",
    "                dic[title]=tag\n",
    "            except:\n",
    "                tag_array.append(None)\n",
    "print(dic)"
   ]
  },
  {
   "cell_type": "code",
   "execution_count": null,
   "metadata": {
    "colab": {
     "base_uri": "https://localhost:8080/"
    },
    "id": "fPt6ICQ7X73K",
    "outputId": "b7d7eac7-b377-412f-d2d4-ab3b3e6551fc"
   },
   "outputs": [],
   "source": [
    "dic"
   ]
  },
  {
   "cell_type": "code",
   "execution_count": null,
   "metadata": {
    "colab": {
     "base_uri": "https://localhost:8080/"
    },
    "id": "K5n6JxZcIWBE",
    "outputId": "c4f4ede8-d5b4-4578-a147-dd91a7bc3248"
   },
   "outputs": [],
   "source": [
    "tag_array"
   ]
  },
  {
   "cell_type": "code",
   "execution_count": null,
   "metadata": {
    "id": "0ry5orEHIWWI"
   },
   "outputs": [],
   "source": [
    "import pandas as pd"
   ]
  },
  {
   "cell_type": "code",
   "execution_count": null,
   "metadata": {
    "colab": {
     "base_uri": "https://localhost:8080/",
     "height": 419
    },
    "id": "Oappmf1ndP28",
    "outputId": "533f1fa6-8059-4193-fc1e-a1abc39843d4"
   },
   "outputs": [],
   "source": [
    "df = pd.DataFrame(title_array, columns=['Title'])\n",
    "df['Tag'] = pd.DataFrame(tag_array)\n",
    "df"
   ]
  },
  {
   "cell_type": "code",
   "execution_count": null,
   "metadata": {
    "id": "cn5W8xc6ewOR"
   },
   "outputs": [],
   "source": [
    "import matplotlib.pyplot as plt\n",
    "from wordcloud import WordCloud, STOPWORDS, ImageColorGenerator"
   ]
  },
  {
   "cell_type": "code",
   "execution_count": null,
   "metadata": {
    "colab": {
     "base_uri": "https://localhost:8080/",
     "height": 486
    },
    "id": "EJ8SesJqfvQ-",
    "outputId": "fdd1499c-cd05-4740-efa9-0f78438f923d"
   },
   "outputs": [],
   "source": [
    "df[\"Tag\"] = df[\"Tag\"].fillna(value=\"\")\n",
    "word_string=\" \".join(df['Tag'].str.lower())\n",
    "plt.figure(figsize=(15,15))\n",
    "wc = WordCloud(background_color=\"white\", stopwords = STOPWORDS, max_words=2000, max_font_size= 300,  width=1600, height=800)\n",
    "wc.generate(word_string)\n",
    "\n",
    "plt.imshow(wc.recolor( colormap= 'viridis' , random_state=17), interpolation=\"bilinear\")\n",
    "plt.axis('off')\n",
    "\n",
    "\n",
    "\n"
   ]
  }
 ],
 "metadata": {
  "colab": {
   "name": "esports word cloud.ipynb",
   "provenance": []
  },
  "kernelspec": {
   "display_name": "Python 3 (ipykernel)",
   "language": "python",
   "name": "python3"
  },
  "language_info": {
   "codemirror_mode": {
    "name": "ipython",
    "version": 3
   },
   "file_extension": ".py",
   "mimetype": "text/x-python",
   "name": "python",
   "nbconvert_exporter": "python",
   "pygments_lexer": "ipython3",
   "version": "3.9.7"
  }
 },
 "nbformat": 4,
 "nbformat_minor": 4
}
